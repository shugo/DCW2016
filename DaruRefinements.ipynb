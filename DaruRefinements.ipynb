{
 "cells": [
  {
   "cell_type": "code",
   "execution_count": 1,
   "metadata": {
    "collapsed": false
   },
   "outputs": [
    {
     "data": {
      "application/javascript": [
       "if(window['d3'] === undefined ||\n",
       "   window['Nyaplot'] === undefined){\n",
       "    var path = {\"d3\":\"https://cdnjs.cloudflare.com/ajax/libs/d3/3.5.5/d3.min\",\"downloadable\":\"http://cdn.rawgit.com/domitry/d3-downloadable/master/d3-downloadable\"};\n",
       "\n",
       "\n",
       "\n",
       "    var shim = {\"d3\":{\"exports\":\"d3\"},\"downloadable\":{\"exports\":\"downloadable\"}};\n",
       "\n",
       "    require.config({paths: path, shim:shim});\n",
       "\n",
       "\n",
       "require(['d3'], function(d3){window['d3']=d3;console.log('finished loading d3');require(['downloadable'], function(downloadable){window['downloadable']=downloadable;console.log('finished loading downloadable');\n",
       "\n",
       "\tvar script = d3.select(\"head\")\n",
       "\t    .append(\"script\")\n",
       "\t    .attr(\"src\", \"http://cdn.rawgit.com/domitry/Nyaplotjs/master/release/nyaplot.js\")\n",
       "\t    .attr(\"async\", true);\n",
       "\n",
       "\tscript[0][0].onload = script[0][0].onreadystatechange = function(){\n",
       "\n",
       "\n",
       "\t    var event = document.createEvent(\"HTMLEvents\");\n",
       "\t    event.initEvent(\"load_nyaplot\",false,false);\n",
       "\t    window.dispatchEvent(event);\n",
       "\t    console.log('Finished loading Nyaplotjs');\n",
       "\n",
       "\t};\n",
       "\n",
       "\n",
       "});});\n",
       "}\n"
      ],
      "text/plain": [
       "\"if(window['d3'] === undefined ||\\n   window['Nyaplot'] === undefined){\\n    var path = {\\\"d3\\\":\\\"https://cdnjs.cloudflare.com/ajax/libs/d3/3.5.5/d3.min\\\",\\\"downloadable\\\":\\\"http://cdn.rawgit.com/domitry/d3-downloadable/master/d3-downloadable\\\"};\\n\\n\\n\\n    var shim = {\\\"d3\\\":{\\\"exports\\\":\\\"d3\\\"},\\\"downloadable\\\":{\\\"exports\\\":\\\"downloadable\\\"}};\\n\\n    require.config({paths: path, shim:shim});\\n\\n\\nrequire(['d3'], function(d3){window['d3']=d3;console.log('finished loading d3');require(['downloadable'], function(downloadable){window['downloadable']=downloadable;console.log('finished loading downloadable');\\n\\n\\tvar script = d3.select(\\\"head\\\")\\n\\t    .append(\\\"script\\\")\\n\\t    .attr(\\\"src\\\", \\\"http://cdn.rawgit.com/domitry/Nyaplotjs/master/release/nyaplot.js\\\")\\n\\t    .attr(\\\"async\\\", true);\\n\\n\\tscript[0][0].onload = script[0][0].onreadystatechange = function(){\\n\\n\\n\\t    var event = document.createEvent(\\\"HTMLEvents\\\");\\n\\t    event.initEvent(\\\"load_nyaplot\\\",false,false);\\n\\t    window.dispatchEvent(event);\\n\\t    console.log('Finished loading Nyaplotjs');\\n\\n\\t};\\n\\n\\n});});\\n}\\n\""
      ]
     },
     "metadata": {},
     "output_type": "display_data"
    },
    {
     "data": {
      "text/plain": [
       "main"
      ]
     },
     "execution_count": 1,
     "metadata": {},
     "output_type": "execute_result"
    }
   ],
   "source": [
    "require \"daru\"\n",
    "require \"./daru_refinements\"\n",
    "\n",
    "using Daru::Refinements"
   ]
  },
  {
   "cell_type": "code",
   "execution_count": 2,
   "metadata": {
    "collapsed": false
   },
   "outputs": [
    {
     "data": {
      "text/html": [
       "<table><tr><th colspan=\"3\">Daru::DataFrame:70315690021180  rows: 10  cols: 2<tr><th></th><th>x</th><th>y</th></tr><tr><td>0</td><td>1</td><td>11</td></tr><tr><td>1</td><td>2</td><td>12</td></tr><tr><td>2</td><td>3</td><td>13</td></tr><tr><td>3</td><td>4</td><td>14</td></tr><tr><td>4</td><td>5</td><td>15</td></tr><tr><td>5</td><td>6</td><td>16</td></tr><tr><td>6</td><td>7</td><td>17</td></tr><tr><td>7</td><td>8</td><td>18</td></tr><tr><td>8</td><td>9</td><td>19</td></tr><tr><td>9</td><td>10</td><td>20</td></tr></table>"
      ],
      "text/plain": [
       "\n",
       "#<Daru::DataFrame:70315690021180 @name = 065311f6-1993-4d66-b81d-d4238cf71b7f @size = 10>\n",
       "                    x          y \n",
       "         0          1         11 \n",
       "         1          2         12 \n",
       "         2          3         13 \n",
       "         3          4         14 \n",
       "         4          5         15 \n",
       "         5          6         16 \n",
       "         6          7         17 \n",
       "         7          8         18 \n",
       "         8          9         19 \n",
       "         9         10         20 \n"
      ]
     },
     "execution_count": 2,
     "metadata": {},
     "output_type": "execute_result"
    }
   ],
   "source": [
    "df = Daru::DataFrame.new(x: (1..10).to_a, y: (11..20).to_a)"
   ]
  },
  {
   "cell_type": "code",
   "execution_count": 5,
   "metadata": {
    "collapsed": false
   },
   "outputs": [
    {
     "data": {
      "text/html": [
       "<table><tr><th colspan=\"3\">Daru::DataFrame:70315689111880  rows: 4  cols: 2<tr><th></th><th>x</th><th>y</th></tr><tr><td>6</td><td>7</td><td>17</td></tr><tr><td>7</td><td>8</td><td>18</td></tr><tr><td>8</td><td>9</td><td>19</td></tr><tr><td>9</td><td>10</td><td>20</td></tr></table>"
      ],
      "text/plain": [
       "\n",
       "#<Daru::DataFrame:70315689111880 @name = 012f0083-3f60-4670-97a0-bf40680c722e @size = 4>\n",
       "                    x          y \n",
       "         6          7         17 \n",
       "         7          8         18 \n",
       "         8          9         19 \n",
       "         9         10         20 \n"
      ]
     },
     "execution_count": 5,
     "metadata": {},
     "output_type": "execute_result"
    }
   ],
   "source": [
    "df.where { :x >= 7 }"
   ]
  },
  {
   "cell_type": "code",
   "execution_count": 6,
   "metadata": {
    "collapsed": false
   },
   "outputs": [
    {
     "ename": "ArgumentError",
     "evalue": "comparison of Symbol with 7 failed",
     "output_type": "error",
     "traceback": [
      "\u001b[31mArgumentError\u001b[0m: comparison of Symbol with 7 failed",
      "\u001b[37m<main>:in `>='\u001b[0m",
      "\u001b[37m<main>:in `<main>'\u001b[0m",
      "\u001b[37m/home/shugo/local/lib/ruby/gems/2.4.0/gems/iruby-0.2.8/lib/iruby/backend.rb:44:in `eval'\u001b[0m",
      "\u001b[37m/home/shugo/local/lib/ruby/gems/2.4.0/gems/iruby-0.2.8/lib/iruby/backend.rb:44:in `eval'\u001b[0m",
      "\u001b[37m/home/shugo/local/lib/ruby/gems/2.4.0/gems/iruby-0.2.8/lib/iruby/backend.rb:12:in `eval'\u001b[0m",
      "\u001b[37m/home/shugo/local/lib/ruby/gems/2.4.0/gems/iruby-0.2.8/lib/iruby/kernel.rb:87:in `execute_request'\u001b[0m",
      "\u001b[37m/home/shugo/local/lib/ruby/gems/2.4.0/gems/iruby-0.2.8/lib/iruby/kernel.rb:47:in `dispatch'\u001b[0m",
      "\u001b[37m/home/shugo/local/lib/ruby/gems/2.4.0/gems/iruby-0.2.8/lib/iruby/kernel.rb:37:in `run'\u001b[0m",
      "\u001b[37m/home/shugo/local/lib/ruby/gems/2.4.0/gems/iruby-0.2.8/lib/iruby/command.rb:70:in `run_kernel'\u001b[0m",
      "\u001b[37m/home/shugo/local/lib/ruby/gems/2.4.0/gems/iruby-0.2.8/lib/iruby/command.rb:34:in `run'\u001b[0m",
      "\u001b[37m/home/shugo/local/lib/ruby/gems/2.4.0/gems/iruby-0.2.8/bin/iruby:5:in `<top (required)>'\u001b[0m",
      "\u001b[37m/home/shugo/local/bin/iruby:23:in `load'\u001b[0m",
      "\u001b[37m/home/shugo/local/bin/iruby:23:in `<main>'\u001b[0m"
     ]
    }
   ],
   "source": [
    ":x >= 7"
   ]
  },
  {
   "cell_type": "code",
   "execution_count": 4,
   "metadata": {
    "collapsed": false
   },
   "outputs": [
    {
     "data": {
      "text/html": [
       "<table><tr><th colspan=\"3\">Daru::DataFrame:70315689513160  rows: 6  cols: 2<tr><th></th><th>x</th><th>y</th></tr><tr><td>2</td><td>3</td><td>13</td></tr><tr><td>3</td><td>4</td><td>14</td></tr><tr><td>4</td><td>5</td><td>15</td></tr><tr><td>5</td><td>6</td><td>16</td></tr><tr><td>6</td><td>7</td><td>17</td></tr><tr><td>7</td><td>8</td><td>18</td></tr></table>"
      ],
      "text/plain": [
       "\n",
       "#<Daru::DataFrame:70315689513160 @name = f5f5acf7-7ee1-4566-aad6-078f64fd7c3c @size = 6>\n",
       "                    x          y \n",
       "         2          3         13 \n",
       "         3          4         14 \n",
       "         4          5         15 \n",
       "         5          6         16 \n",
       "         6          7         17 \n",
       "         7          8         18 \n"
      ]
     },
     "execution_count": 4,
     "metadata": {},
     "output_type": "execute_result"
    }
   ],
   "source": [
    "df.where { (:x >= 3) & (:y <= 18) }"
   ]
  }
 ],
 "metadata": {
  "kernelspec": {
   "display_name": "Ruby 2.4.0",
   "language": "ruby",
   "name": "ruby"
  },
  "language_info": {
   "file_extension": ".rb",
   "mimetype": "application/x-ruby",
   "name": "ruby",
   "version": "2.4.0"
  }
 },
 "nbformat": 4,
 "nbformat_minor": 0
}
