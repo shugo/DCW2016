{
 "cells": [
  {
   "cell_type": "markdown",
   "metadata": {},
   "source": [
    "# NY市場の株価データ解析\n",
    "\n",
    "daru, statsample, Nyaplot, IRubyを使って、株式市場のブラウン運動を観察する。\n",
    "収益率の対数が正規分布に従うかどうか。"
   ]
  },
  {
   "cell_type": "code",
   "execution_count": 1,
   "metadata": {
    "collapsed": false
   },
   "outputs": [
    {
     "data": {
      "application/javascript": [
       "if(window['d3'] === undefined ||\n",
       "   window['Nyaplot'] === undefined){\n",
       "    var path = {\"d3\":\"https://cdnjs.cloudflare.com/ajax/libs/d3/3.5.5/d3.min\",\"downloadable\":\"http://cdn.rawgit.com/domitry/d3-downloadable/master/d3-downloadable\"};\n",
       "\n",
       "\n",
       "\n",
       "    var shim = {\"d3\":{\"exports\":\"d3\"},\"downloadable\":{\"exports\":\"downloadable\"}};\n",
       "\n",
       "    require.config({paths: path, shim:shim});\n",
       "\n",
       "\n",
       "require(['d3'], function(d3){window['d3']=d3;console.log('finished loading d3');require(['downloadable'], function(downloadable){window['downloadable']=downloadable;console.log('finished loading downloadable');\n",
       "\n",
       "\tvar script = d3.select(\"head\")\n",
       "\t    .append(\"script\")\n",
       "\t    .attr(\"src\", \"http://cdn.rawgit.com/domitry/Nyaplotjs/master/release/nyaplot.js\")\n",
       "\t    .attr(\"async\", true);\n",
       "\n",
       "\tscript[0][0].onload = script[0][0].onreadystatechange = function(){\n",
       "\n",
       "\n",
       "\t    var event = document.createEvent(\"HTMLEvents\");\n",
       "\t    event.initEvent(\"load_nyaplot\",false,false);\n",
       "\t    window.dispatchEvent(event);\n",
       "\t    console.log('Finished loading Nyaplotjs');\n",
       "\n",
       "\t};\n",
       "\n",
       "\n",
       "});});\n",
       "}\n"
      ],
      "text/plain": [
       "\"if(window['d3'] === undefined ||\\n   window['Nyaplot'] === undefined){\\n    var path = {\\\"d3\\\":\\\"https://cdnjs.cloudflare.com/ajax/libs/d3/3.5.5/d3.min\\\",\\\"downloadable\\\":\\\"http://cdn.rawgit.com/domitry/d3-downloadable/master/d3-downloadable\\\"};\\n\\n\\n\\n    var shim = {\\\"d3\\\":{\\\"exports\\\":\\\"d3\\\"},\\\"downloadable\\\":{\\\"exports\\\":\\\"downloadable\\\"}};\\n\\n    require.config({paths: path, shim:shim});\\n\\n\\nrequire(['d3'], function(d3){window['d3']=d3;console.log('finished loading d3');require(['downloadable'], function(downloadable){window['downloadable']=downloadable;console.log('finished loading downloadable');\\n\\n\\tvar script = d3.select(\\\"head\\\")\\n\\t    .append(\\\"script\\\")\\n\\t    .attr(\\\"src\\\", \\\"http://cdn.rawgit.com/domitry/Nyaplotjs/master/release/nyaplot.js\\\")\\n\\t    .attr(\\\"async\\\", true);\\n\\n\\tscript[0][0].onload = script[0][0].onreadystatechange = function(){\\n\\n\\n\\t    var event = document.createEvent(\\\"HTMLEvents\\\");\\n\\t    event.initEvent(\\\"load_nyaplot\\\",false,false);\\n\\t    window.dispatchEvent(event);\\n\\t    console.log('Finished loading Nyaplotjs');\\n\\n\\t};\\n\\n\\n});});\\n}\\n\""
      ]
     },
     "metadata": {},
     "output_type": "display_data"
    },
    {
     "data": {
      "text/plain": [
       "true"
      ]
     },
     "execution_count": 1,
     "metadata": {},
     "output_type": "execute_result"
    }
   ],
   "source": [
    "require \"daru\"\n",
    "require \"statsample\""
   ]
  },
  {
   "cell_type": "code",
   "execution_count": 2,
   "metadata": {
    "collapsed": false
   },
   "outputs": [],
   "source": [
    "# ニューヨーク市場の銘柄から100のサンプル抽出\n",
    "# stock_ticker = Daru::DataFrame.from_csv(\"stock_ticker.csv\")\n",
    "# sample_ticker = stock_ticker.where(stock_ticker[\"Exchange\"].eq(\"NYQ\"))[\"Ticker\"].to_a.shuffle.take(100)\n",
    "# Daru::DataFrame.new(\"Ticker\" => sample_ticker).write_csv(\"sample_ticker.csv\")"
   ]
  },
  {
   "cell_type": "markdown",
   "metadata": {},
   "source": [
    "## 株価データのダウンロード\n",
    "\n",
    "* stock_ticker.csvをもとに、pandasのget_data_yahoo()を使って2006年1月1日以降の株価データを[ダウンロード](StockDownload.ipynb)\n",
    "* 証券コードに'-'が含まれる4件はエラー\n",
    "\n",
    "## データのクリーニング"
   ]
  },
  {
   "cell_type": "code",
   "execution_count": null,
   "metadata": {
    "collapsed": false
   },
   "outputs": [],
   "source": [
    "# pandasでダウンロードしたCSVをロード\n",
    "# 最初の日付が2006-01-03のものだけ抽出\n",
    "stocks = Dir[\"stock/*.csv\"].map { |file|\n",
    "  name = file.slice(/([^\\/]+)\\.csv\\z/, 1)\n",
    "  Daru::DataFrame.from_csv(file, name: name)\n",
    "}.select {|stock| stock[\"Date\"][0] == \"2006-01-03\" }\n",
    "stocks.size"
   ]
  },
  {
   "cell_type": "markdown",
   "metadata": {},
   "source": [
    "## 株価の分布"
   ]
  },
  {
   "cell_type": "code",
   "execution_count": null,
   "metadata": {
    "collapsed": false
   },
   "outputs": [],
   "source": [
    "# 直近1か月の終値の分布\n",
    "recent_close = Daru::DataFrame.new(\n",
    "  close: stocks.flat_map { |stock|\n",
    "    stock[\"Adj Close\"][-30..-1].to_a\n",
    "  }\n",
    ")\n",
    "recent_close.plot type: :histogram, x: :close do |plot, diagram|\n",
    "  diagram.bin_num(100)\n",
    "  plot.yrange([0, 200])\n",
    "  plot.x_label(\"P($)\")\n",
    "  plot.y_label(\"No per P\")\n",
    "end"
   ]
  },
  {
   "cell_type": "code",
   "execution_count": null,
   "metadata": {
    "collapsed": false
   },
   "outputs": [],
   "source": [
    "# 直近1か月の終値の対数の分布\n",
    "recent_log_close = Daru::DataFrame.new(\n",
    "  close: stocks.flat_map { |stock|\n",
    "    stock[\"Adj Close\"].tail(30).map { |x| Math.log(x) }\n",
    "  }\n",
    ")\n",
    "recent_log_close.plot type: :histogram, x: :close do |plot, diagram|\n",
    "  diagram.bin_num(100)\n",
    "  plot.yrange([0, 100])\n",
    "  plot.x_label(\"ln(P)\")\n",
    "  plot.y_label(\"No per ln(P)\")\n",
    "end"
   ]
  },
  {
   "cell_type": "code",
   "execution_count": null,
   "metadata": {
    "collapsed": false
   },
   "outputs": [],
   "source": [
    "# 最初の銘柄の統計量\n",
    "stocks[0].describe"
   ]
  },
  {
   "cell_type": "markdown",
   "metadata": {},
   "source": [
    "## 収益率の対数の分布"
   ]
  },
  {
   "cell_type": "code",
   "execution_count": null,
   "metadata": {
    "collapsed": false
   },
   "outputs": [],
   "source": [
    "# 日次収益率の対数（log(P(t + 1day) / P0(t))）を計算\n",
    "def get_log_return(stock)\n",
    "  Daru::DataFrame.new({\n",
    "    date: stock[\"Date\"].drop(1),\n",
    "    volume: stock[\"Volume\"].drop(1),\n",
    "    # [a, b, c, d, ...].each_cons(2) #=> [a, b], [b, c], [c, d], ...\n",
    "    log_return: stock[\"Adj Close\"].each_cons(2).map { |prev, current| Math.log(current / prev) }\n",
    "  }, name: stock.name, order: [:date, :volume, :log_return])\n",
    "end\n",
    "\n",
    "# 遅い例\n",
    "def get_log_return_slow(stock)\n",
    "  Daru::DataFrame.new(\n",
    "    # 行毎の処理は遅い\n",
    "    stock.each_row.each_cons(2).map { |prev, current|\n",
    "      {\n",
    "        date: current[\"Date\"],\n",
    "        volume: current[\"Volume\"],\n",
    "        log_return: Math.log(current[\"Adj Close\"] / prev[\"Adj Close\"])\n",
    "      }\n",
    "    }\n",
    "  )\n",
    "end\n",
    "\n",
    "log_returns = stocks.map { |stock|\n",
    "  get_log_return(stock)\n",
    "}\n",
    "nil"
   ]
  },
  {
   "cell_type": "code",
   "execution_count": null,
   "metadata": {
    "collapsed": false
   },
   "outputs": [],
   "source": [
    "# 最初の3銘柄のヒストグラムをプロット\n",
    "log_returns.take(3).each do |log_return|\n",
    "  log_return.plot type: :histogram, x: :log_return do |plot, diagram|\n",
    "    diagram.bin_num(150)\n",
    "    plot.yrange([0, 520])\n",
    "    plot.x_label(\"ln[P(t + 1d)/P(t)] of #{log_return.name}\")\n",
    "    plot.y_label(\"No per ln[P(t + 1d)/P(t)]\")\n",
    "  end\n",
    "end\n",
    "nil"
   ]
  },
  {
   "cell_type": "code",
   "execution_count": null,
   "metadata": {
    "collapsed": false
   },
   "outputs": [],
   "source": [
    "# 標本の個々の値から計算した経験累積分布と、標本平均・標本標準偏差から\n",
    "# 計算した正規累積分布をプロットして比較\n",
    "\n",
    "def empirical_cumulative_distribution(v)\n",
    "  x = []\n",
    "  count = []\n",
    "  # 簡便さのためsortを使う\n",
    "  v.sort.each do |i|\n",
    "    if x.empty? || x[-1] < i\n",
    "      # xが空またはxの最後の要素がiより小さい時\n",
    "      x.push(i)\n",
    "      count.push((count[-1] || 0) + 1) # 最後のcount + 1を追加\n",
    "    else\n",
    "      # xの最後の値とiが同じ時\n",
    "      count[-1] += 1 # 最後のcountをincrement\n",
    "    end\n",
    "  end\n",
    "  # countの値をvの総数で割った値をy (0〜1)とする\n",
    "  y = count.map { |i| i / v.count.to_f }\n",
    "  Daru::DataFrame.new(x: x, y: y)\n",
    "end\n",
    "\n",
    "def normal_cumulative_distribution(v)\n",
    "  x = v.min.step(v.max, (v.max - v.min) / 99).to_a\n",
    "  y = x.map { |i|\n",
    "    Distribution::Normal.cdf((i - v.mean) / v.std)\n",
    "  }\n",
    "  Daru::DataFrame.new(x: x, y: y)\n",
    "end\n",
    "\n",
    "def plot_cumulative_distribution(v, x_label)\n",
    "  ecd = empirical_cumulative_distribution(v)\n",
    "  ncd = normal_cumulative_distribution(v)\n",
    "  plot = Nyaplot::Plot.new\n",
    "  colors = Nyaplot::Colors.qual\n",
    "  plot.add_with_df(ecd, :line, :x, :y)\n",
    "  plot.add_with_df(ncd, :line, :x, :y).color(\"#44bb44\")\n",
    "  plot.xrange([-0.1, 0.1])\n",
    "  plot.x_label(x_label)\n",
    "  plot.y_label(\"Cumulative probability\")\n",
    "  plot.show\n",
    "end\n",
    "\n",
    "log_returns.take(3).each do |log_return|\n",
    "  plot_cumulative_distribution(log_return[:log_return], \"ln[P(t + 1d)/P(t)] of #{log_return.name}\")\n",
    "end\n",
    "nil"
   ]
  },
  {
   "cell_type": "code",
   "execution_count": null,
   "metadata": {
    "collapsed": false,
    "scrolled": true
   },
   "outputs": [],
   "source": [
    "# ダウ平均の累積分布\n",
    "dji = Daru::DataFrame.from_csv(\"DJI.csv\")\n",
    "dji_lr = get_log_return(dji)\n",
    "plot_cumulative_distribution(dji_lr[:log_return], \"ln[P(t + 1d)/P(t)] of DJI\")"
   ]
  },
  {
   "cell_type": "markdown",
   "metadata": {},
   "source": [
    "## 標準偏差は取引量の平方根に比例する?"
   ]
  },
  {
   "cell_type": "code",
   "execution_count": null,
   "metadata": {
    "collapsed": false
   },
   "outputs": [],
   "source": [
    "lr = log_returns[0]\n",
    "# 対数収益率データに年・月・四半期を追加\n",
    "df = Daru::DataFrame.new(date: lr[:date], volume: lr[:volume], log_return: lr[:log_return],\n",
    "  year: lr[:date].map { |d| d.slice(/\\A\\d{4}/) },\n",
    "  quarter: lr[:date].map { |d| d.slice(/\\A\\d{4}-/) + (d.slice(/\\A\\d{4}-(\\d{2})/, 1).to_i / 4 + 1).to_s + \"Q\" },\n",
    "  month: lr[:date].map { |d| d.slice(/\\A\\d{4}-\\d{2}/) })"
   ]
  },
  {
   "cell_type": "code",
   "execution_count": null,
   "metadata": {
    "collapsed": false
   },
   "outputs": [],
   "source": [
    "def get_sqrt_volume_and_std_log_return(df, group)\n",
    "  x = []\n",
    "  y = []\n",
    "  df.group_by(group).each_group { |g|\n",
    "    x << Math.sqrt(g[:volume].sum)\n",
    "    y << g[:log_return].std\n",
    "  }\n",
    "  Daru::DataFrame.new(sqrt_volume: x, std_log_return: y)\n",
    "end\n",
    "\n",
    "last_decade = df.where(df[:year].gteq(\"2011\"))\n",
    "year = get_sqrt_volume_and_std_log_return(df, :year)\n",
    "quarter = get_sqrt_volume_and_std_log_return(df, :quarter)\n",
    "month = get_sqrt_volume_and_std_log_return(df, :month)\n",
    "plot = Nyaplot::Plot.new\n",
    "plot.add_with_df(year, :scatter, :sqrt_volume, :std_log_return)\n",
    "plot.add_with_df(quarter, :scatter, :sqrt_volume, :std_log_return).color(\"#44bb44\")\n",
    "plot.add_with_df(month, :scatter, :sqrt_volume, :std_log_return).color(\"#dd8844\")\n",
    "plot.x_label(\"Square root of volume\")\n",
    "plot.y_label(\"Standard deviation of ln[P(t + 1d)/P(t)]\")\n",
    "plot.show"
   ]
  }
 ],
 "metadata": {
  "kernelspec": {
   "display_name": "Ruby 2.4.0",
   "language": "ruby",
   "name": "ruby"
  },
  "language_info": {
   "file_extension": ".rb",
   "mimetype": "application/x-ruby",
   "name": "ruby",
   "version": "2.4.0"
  }
 },
 "nbformat": 4,
 "nbformat_minor": 0
}
