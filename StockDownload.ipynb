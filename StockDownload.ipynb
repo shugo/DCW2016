{
 "cells": [
  {
   "cell_type": "code",
   "execution_count": 7,
   "metadata": {
    "collapsed": false
   },
   "outputs": [],
   "source": [
    "import time\n",
    "import os.path\n",
    "import pandas as pd\n",
    "from pandas_datareader.data import get_data_yahoo"
   ]
  },
  {
   "cell_type": "code",
   "execution_count": 11,
   "metadata": {
    "collapsed": false
   },
   "outputs": [
    {
     "name": "stdout",
     "output_type": "stream",
     "text": [
      "download OAKS-PA...\n",
      "Unable to read URL: http://ichart.finance.yahoo.com/table.csv\n",
      "download CMG...\n",
      "download SPA...\n",
      "download DAC...\n",
      "download KRO...\n",
      "download BIN...\n",
      "download PNC...\n",
      "download FOF...\n",
      "download ATEN...\n",
      "download RAS...\n",
      "download TGS...\n",
      "download CFX...\n",
      "download JHS...\n",
      "download BIE...\n",
      "download BLD-WI...\n",
      "Unable to read URL: http://ichart.finance.yahoo.com/table.csv\n",
      "download RSO-PA...\n",
      "Unable to read URL: http://ichart.finance.yahoo.com/table.csv\n",
      "download CEB...\n",
      "download SHO...\n",
      "download CBK...\n",
      "download LITB...\n",
      "download TKC...\n",
      "download CFR...\n",
      "download RHT...\n",
      "download LLL...\n",
      "download AVAL...\n",
      "download NXQ...\n",
      "download UVE...\n",
      "download HT...\n",
      "download PEB...\n",
      "download SPXC...\n",
      "download SID...\n",
      "download NIO...\n",
      "download ELA...\n",
      "download GDP-PC...\n",
      "Unable to read URL: http://ichart.finance.yahoo.com/table.csv\n",
      "download PMC...\n",
      "download AOS...\n",
      "download PHH...\n",
      "download CVO...\n",
      "download OA...\n",
      "download BANC...\n",
      "download PGR...\n",
      "download BBT...\n"
     ]
    }
   ],
   "source": [
    "ticker = pd.read_csv('sample_ticker.csv')\n",
    "for t in ticker['Ticker']:\n",
    "    filename = 'stock/' + t + '.csv'\n",
    "    if not os.path.exists(filename):\n",
    "        print('download ' + t + '...')\n",
    "        try:\n",
    "            df = get_data_yahoo(symbols=t, start='1/1/2006')\n",
    "            df.to_csv(filename)\n",
    "            time.sleep(5)\n",
    "        except Exception as e:\n",
    "            print(e)"
   ]
  },
  {
   "cell_type": "code",
   "execution_count": 12,
   "metadata": {
    "collapsed": false
   },
   "outputs": [],
   "source": [
    "# ダウ平均株価のダウンロード\n",
    "df = get_data_yahoo(symbols='^DJI', start='1/1/1900')\n",
    "df.to_csv('DJI.csv')"
   ]
  }
 ],
 "metadata": {
  "kernelspec": {
   "display_name": "Python 3",
   "language": "python",
   "name": "python3"
  },
  "language_info": {
   "codemirror_mode": {
    "name": "ipython",
    "version": 3
   },
   "file_extension": ".py",
   "mimetype": "text/x-python",
   "name": "python",
   "nbconvert_exporter": "python",
   "pygments_lexer": "ipython3",
   "version": "3.4.3"
  }
 },
 "nbformat": 4,
 "nbformat_minor": 0
}
