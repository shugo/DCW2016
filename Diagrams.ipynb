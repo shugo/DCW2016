{
 "cells": [
  {
   "cell_type": "code",
   "execution_count": 1,
   "metadata": {
    "collapsed": false
   },
   "outputs": [
    {
     "data": {
      "application/javascript": [
       "if(window['d3'] === undefined ||\n",
       "   window['Nyaplot'] === undefined){\n",
       "    var path = {\"d3\":\"https://cdnjs.cloudflare.com/ajax/libs/d3/3.5.5/d3.min\",\"downloadable\":\"http://cdn.rawgit.com/domitry/d3-downloadable/master/d3-downloadable\"};\n",
       "\n",
       "\n",
       "\n",
       "    var shim = {\"d3\":{\"exports\":\"d3\"},\"downloadable\":{\"exports\":\"downloadable\"}};\n",
       "\n",
       "    require.config({paths: path, shim:shim});\n",
       "\n",
       "\n",
       "require(['d3'], function(d3){window['d3']=d3;console.log('finished loading d3');require(['downloadable'], function(downloadable){window['downloadable']=downloadable;console.log('finished loading downloadable');\n",
       "\n",
       "\tvar script = d3.select(\"head\")\n",
       "\t    .append(\"script\")\n",
       "\t    .attr(\"src\", \"http://cdn.rawgit.com/domitry/Nyaplotjs/master/release/nyaplot.js\")\n",
       "\t    .attr(\"async\", true);\n",
       "\n",
       "\tscript[0][0].onload = script[0][0].onreadystatechange = function(){\n",
       "\n",
       "\n",
       "\t    var event = document.createEvent(\"HTMLEvents\");\n",
       "\t    event.initEvent(\"load_nyaplot\",false,false);\n",
       "\t    window.dispatchEvent(event);\n",
       "\t    console.log('Finished loading Nyaplotjs');\n",
       "\n",
       "\t};\n",
       "\n",
       "\n",
       "});});\n",
       "}\n"
      ],
      "text/plain": [
       "\"if(window['d3'] === undefined ||\\n   window['Nyaplot'] === undefined){\\n    var path = {\\\"d3\\\":\\\"https://cdnjs.cloudflare.com/ajax/libs/d3/3.5.5/d3.min\\\",\\\"downloadable\\\":\\\"http://cdn.rawgit.com/domitry/d3-downloadable/master/d3-downloadable\\\"};\\n\\n\\n\\n    var shim = {\\\"d3\\\":{\\\"exports\\\":\\\"d3\\\"},\\\"downloadable\\\":{\\\"exports\\\":\\\"downloadable\\\"}};\\n\\n    require.config({paths: path, shim:shim});\\n\\n\\nrequire(['d3'], function(d3){window['d3']=d3;console.log('finished loading d3');require(['downloadable'], function(downloadable){window['downloadable']=downloadable;console.log('finished loading downloadable');\\n\\n\\tvar script = d3.select(\\\"head\\\")\\n\\t    .append(\\\"script\\\")\\n\\t    .attr(\\\"src\\\", \\\"http://cdn.rawgit.com/domitry/Nyaplotjs/master/release/nyaplot.js\\\")\\n\\t    .attr(\\\"async\\\", true);\\n\\n\\tscript[0][0].onload = script[0][0].onreadystatechange = function(){\\n\\n\\n\\t    var event = document.createEvent(\\\"HTMLEvents\\\");\\n\\t    event.initEvent(\\\"load_nyaplot\\\",false,false);\\n\\t    window.dispatchEvent(event);\\n\\t    console.log('Finished loading Nyaplotjs');\\n\\n\\t};\\n\\n\\n});});\\n}\\n\""
      ]
     },
     "metadata": {},
     "output_type": "display_data"
    },
    {
     "data": {
      "text/plain": [
       "true"
      ]
     },
     "execution_count": 1,
     "metadata": {},
     "output_type": "execute_result"
    }
   ],
   "source": [
    "require \"nyaplot\"\n",
    "require \"statsample\""
   ]
  },
  {
   "cell_type": "code",
   "execution_count": 2,
   "metadata": {
    "collapsed": false
   },
   "outputs": [
    {
     "data": {
      "text/html": [
       "<div id='vis-07d854ab-1ed3-4594-8a7c-f95284697591'></div>\n",
       "<script>\n",
       "(function(){\n",
       "    var render = function(){\n",
       "        var model = {\"panes\":[{\"diagrams\":[{\"type\":\"line\",\"options\":{\"x\":\"data0\",\"y\":\"data1\"},\"data\":\"91b4e748-de07-4bd8-a271-0cfb15da1ee7\"}],\"options\":{\"y_label\":\"φ(x)\",\"zoom\":true,\"width\":700,\"xrange\":[-3.0,3.0],\"yrange\":[0.0044318484119380075,0.3989422804014327]}}],\"data\":{\"91b4e748-de07-4bd8-a271-0cfb15da1ee7\":[{\"data0\":-3.0,\"data1\":0.0044318484119380075},{\"data0\":-2.9,\"data1\":0.005952532419775854},{\"data0\":-2.8,\"data1\":0.007915451582979969},{\"data0\":-2.7,\"data1\":0.010420934814422592},{\"data0\":-2.6,\"data1\":0.013582969233685613},{\"data0\":-2.5,\"data1\":0.01752830049356854},{\"data0\":-2.4,\"data1\":0.0223945302948429},{\"data0\":-2.3,\"data1\":0.028327037741601186},{\"data0\":-2.2,\"data1\":0.035474592846231424},{\"data0\":-2.1,\"data1\":0.04398359598042719},{\"data0\":-2.0,\"data1\":0.05399096651318806},{\"data0\":-1.9,\"data1\":0.0656158147746766},{\"data0\":-1.7999999999999998,\"data1\":0.07895015830089418},{\"data0\":-1.7,\"data1\":0.09404907737688695},{\"data0\":-1.5999999999999999,\"data1\":0.11092083467945558},{\"data0\":-1.5,\"data1\":0.12951759566589174},{\"data0\":-1.4,\"data1\":0.14972746563574488},{\"data0\":-1.2999999999999998,\"data1\":0.1713685920478074},{\"data0\":-1.2,\"data1\":0.19418605498321295},{\"data0\":-1.0999999999999999,\"data1\":0.21785217703255058},{\"data0\":-1.0,\"data1\":0.24197072451914337},{\"data0\":-0.8999999999999999,\"data1\":0.26608524989875487},{\"data0\":-0.7999999999999998,\"data1\":0.2896915527614828},{\"data0\":-0.6999999999999997,\"data1\":0.3122539333667614},{\"data0\":-0.5999999999999996,\"data1\":0.3332246028917997},{\"data0\":-0.5,\"data1\":0.3520653267642995},{\"data0\":-0.3999999999999999,\"data1\":0.3682701403033234},{\"data0\":-0.2999999999999998,\"data1\":0.38138781546052414},{\"data0\":-0.19999999999999973,\"data1\":0.39104269397545594},{\"data0\":-0.09999999999999964,\"data1\":0.3969525474770118},{\"data0\":0.0,\"data1\":0.3989422804014327},{\"data0\":0.10000000000000009,\"data1\":0.3969525474770118},{\"data0\":0.20000000000000018,\"data1\":0.3910426939754559},{\"data0\":0.30000000000000027,\"data1\":0.3813878154605241},{\"data0\":0.40000000000000036,\"data1\":0.3682701403033233},{\"data0\":0.5,\"data1\":0.3520653267642995},{\"data0\":0.6000000000000001,\"data1\":0.33322460289179967},{\"data0\":0.7000000000000002,\"data1\":0.3122539333667612},{\"data0\":0.8000000000000003,\"data1\":0.2896915527614827},{\"data0\":0.9000000000000004,\"data1\":0.26608524989875476},{\"data0\":1.0,\"data1\":0.24197072451914337},{\"data0\":1.1000000000000005,\"data1\":0.21785217703255041},{\"data0\":1.2000000000000002,\"data1\":0.19418605498321292},{\"data0\":1.2999999999999998,\"data1\":0.1713685920478074},{\"data0\":1.4000000000000004,\"data1\":0.1497274656357448},{\"data0\":1.5,\"data1\":0.12951759566589174},{\"data0\":1.6000000000000005,\"data1\":0.11092083467945546},{\"data0\":1.7000000000000002,\"data1\":0.0940490773768869},{\"data0\":1.8000000000000007,\"data1\":0.07895015830089407},{\"data0\":1.9000000000000004,\"data1\":0.06561581477467655},{\"data0\":2.0,\"data1\":0.05399096651318806},{\"data0\":2.1000000000000005,\"data1\":0.043983595980427156},{\"data0\":2.2,\"data1\":0.035474592846231424},{\"data0\":2.3000000000000007,\"data1\":0.02832703774160112},{\"data0\":2.4000000000000004,\"data1\":0.022394530294842882},{\"data0\":2.5,\"data1\":0.01752830049356854},{\"data0\":2.6000000000000005,\"data1\":0.013582969233685602},{\"data0\":2.7,\"data1\":0.010420934814422592},{\"data0\":2.8000000000000007,\"data1\":0.007915451582979946},{\"data0\":2.9000000000000004,\"data1\":0.005952532419775849},{\"data0\":3.0,\"data1\":0.0044318484119380075}]},\"extension\":[]}\n",
       "        var id_name = '#vis-07d854ab-1ed3-4594-8a7c-f95284697591';\n",
       "        Nyaplot.core.parse(model, id_name);\n",
       "\n",
       "        require(['downloadable'], function(downloadable){\n",
       "          var svg = d3.select(id_name).select(\"svg\");\n",
       "\t  if(!svg.empty())\n",
       "\t    svg.call(downloadable().filename('fig'));\n",
       "\t});\n",
       "    };\n",
       "    if(window['Nyaplot']==undefined){\n",
       "        window.addEventListener('load_nyaplot', render, false);\n",
       "\treturn;\n",
       "    } else {\n",
       "       render();\n",
       "    }\n",
       "})();\n",
       "</script>\n"
      ],
      "text/plain": [
       "#<Nyaplot::Frame:0x007fb6ff404490 @properties={:panes=>[#<Nyaplot::Plot:0x007fb6ff0bae10 @properties={:diagrams=>[#<Nyaplot::Diagram:0x007fb6ff405610 @properties={:type=>:line, :options=>{:x=>\"data0\", :y=>\"data1\"}, :data=>\"91b4e748-de07-4bd8-a271-0cfb15da1ee7\"}, @xrange=[-3.0, 3.0], @yrange=[0.0044318484119380075, 0.3989422804014327]>], :options=>{:y_label=>\"φ(x)\", :zoom=>true, :width=>700, :xrange=>[-3.0, 3.0], :yrange=>[0.0044318484119380075, 0.3989422804014327]}}>], :data=>{\"91b4e748-de07-4bd8-a271-0cfb15da1ee7\"=>#<Nyaplot::DataFrame:0x007fb6ff0ba460 @name=\"91b4e748-de07-4bd8-a271-0cfb15da1ee7\", @rows=[{:data0=>-3.0, :data1=>0.0044318484119380075}, {:data0=>-2.9, :data1=>0.005952532419775854}, {:data0=>-2.8, :data1=>0.007915451582979969}, {:data0=>-2.7, :data1=>0.010420934814422592}, {:data0=>-2.6, :data1=>0.013582969233685613}, {:data0=>-2.5, :data1=>0.01752830049356854}, {:data0=>-2.4, :data1=>0.0223945302948429}, {:data0=>-2.3, :data1=>0.028327037741601186}, {:data0=>-2.2, :data1=>0.035474592846231424}, {:data0=>-2.1, :data1=>0.04398359598042719}, {:data0=>-2.0, :data1=>0.05399096651318806}, {:data0=>-1.9, :data1=>0.0656158147746766}, {:data0=>-1.7999999999999998, :data1=>0.07895015830089418}, {:data0=>-1.7, :data1=>0.09404907737688695}, {:data0=>-1.5999999999999999, :data1=>0.11092083467945558}, {:data0=>-1.5, :data1=>0.12951759566589174}, {:data0=>-1.4, :data1=>0.14972746563574488}, {:data0=>-1.2999999999999998, :data1=>0.1713685920478074}, {:data0=>-1.2, :data1=>0.19418605498321295}, {:data0=>-1.0999999999999999, :data1=>0.21785217703255058}, {:data0=>-1.0, :data1=>0.24197072451914337}, {:data0=>-0.8999999999999999, :data1=>0.26608524989875487}, {:data0=>-0.7999999999999998, :data1=>0.2896915527614828}, {:data0=>-0.6999999999999997, :data1=>0.3122539333667614}, {:data0=>-0.5999999999999996, :data1=>0.3332246028917997}, {:data0=>-0.5, :data1=>0.3520653267642995}, {:data0=>-0.3999999999999999, :data1=>0.3682701403033234}, {:data0=>-0.2999999999999998, :data1=>0.38138781546052414}, {:data0=>-0.19999999999999973, :data1=>0.39104269397545594}, {:data0=>-0.09999999999999964, :data1=>0.3969525474770118}, {:data0=>0.0, :data1=>0.3989422804014327}, {:data0=>0.10000000000000009, :data1=>0.3969525474770118}, {:data0=>0.20000000000000018, :data1=>0.3910426939754559}, {:data0=>0.30000000000000027, :data1=>0.3813878154605241}, {:data0=>0.40000000000000036, :data1=>0.3682701403033233}, {:data0=>0.5, :data1=>0.3520653267642995}, {:data0=>0.6000000000000001, :data1=>0.33322460289179967}, {:data0=>0.7000000000000002, :data1=>0.3122539333667612}, {:data0=>0.8000000000000003, :data1=>0.2896915527614827}, {:data0=>0.9000000000000004, :data1=>0.26608524989875476}, {:data0=>1.0, :data1=>0.24197072451914337}, {:data0=>1.1000000000000005, :data1=>0.21785217703255041}, {:data0=>1.2000000000000002, :data1=>0.19418605498321292}, {:data0=>1.2999999999999998, :data1=>0.1713685920478074}, {:data0=>1.4000000000000004, :data1=>0.1497274656357448}, {:data0=>1.5, :data1=>0.12951759566589174}, {:data0=>1.6000000000000005, :data1=>0.11092083467945546}, {:data0=>1.7000000000000002, :data1=>0.0940490773768869}, {:data0=>1.8000000000000007, :data1=>0.07895015830089407}, {:data0=>1.9000000000000004, :data1=>0.06561581477467655}, {:data0=>2.0, :data1=>0.05399096651318806}, {:data0=>2.1000000000000005, :data1=>0.043983595980427156}, {:data0=>2.2, :data1=>0.035474592846231424}, {:data0=>2.3000000000000007, :data1=>0.02832703774160112}, {:data0=>2.4000000000000004, :data1=>0.022394530294842882}, {:data0=>2.5, :data1=>0.01752830049356854}, {:data0=>2.6000000000000005, :data1=>0.013582969233685602}, {:data0=>2.7, :data1=>0.010420934814422592}, {:data0=>2.8000000000000007, :data1=>0.007915451582979946}, {:data0=>2.9000000000000004, :data1=>0.005952532419775849}, {:data0=>3.0, :data1=>0.0044318484119380075}]>}, :extension=>[]}>"
      ]
     },
     "metadata": {},
     "output_type": "display_data"
    }
   ],
   "source": [
    "x = -3.step(3, 0.1).to_a\n",
    "y = x.map { |i| Distribution::Normal.pdf(i) }\n",
    "\n",
    "plot = Nyaplot::Plot.new\n",
    "plot.add(:line, x, y)\n",
    "plot.y_label(\"φ(x)\")\n",
    "plot.show"
   ]
  },
  {
   "cell_type": "code",
   "execution_count": 3,
   "metadata": {
    "collapsed": false
   },
   "outputs": [
    {
     "data": {
      "text/html": [
       "<div id='vis-2368c607-20ad-4213-8f4e-bb2d6cc9f577'></div>\n",
       "<script>\n",
       "(function(){\n",
       "    var render = function(){\n",
       "        var model = {\"panes\":[{\"diagrams\":[{\"type\":\"bar\",\"options\":{\"x\":\"data0\",\"y\":\"data1\"},\"data\":\"d0d7d5d2-212b-4f4d-a300-cd09acae7c7d\"}],\"options\":{\"x_label\":\"Type\",\"y_label\":\"Execution time (sec)\",\"yrange\":[0,1],\"width\":700,\"xrange\":[\"NMatrix\",\"Array\"]}}],\"data\":{\"d0d7d5d2-212b-4f4d-a300-cd09acae7c7d\":[{\"data0\":\"NMatrix\",\"data1\":0.807751},{\"data0\":\"Array\",\"data1\":0.010649}]},\"extension\":[]}\n",
       "        var id_name = '#vis-2368c607-20ad-4213-8f4e-bb2d6cc9f577';\n",
       "        Nyaplot.core.parse(model, id_name);\n",
       "\n",
       "        require(['downloadable'], function(downloadable){\n",
       "          var svg = d3.select(id_name).select(\"svg\");\n",
       "\t  if(!svg.empty())\n",
       "\t    svg.call(downloadable().filename('fig'));\n",
       "\t});\n",
       "    };\n",
       "    if(window['Nyaplot']==undefined){\n",
       "        window.addEventListener('load_nyaplot', render, false);\n",
       "\treturn;\n",
       "    } else {\n",
       "       render();\n",
       "    }\n",
       "})();\n",
       "</script>\n"
      ],
      "text/plain": [
       "#<Nyaplot::Frame:0x007fb6ff3b0318 @properties={:panes=>[#<Nyaplot::Plot:0x007fb6ff3b1f60 @properties={:diagrams=>[#<Nyaplot::Diagram:0x007fb6ff3b0f48 @properties={:type=>:bar, :options=>{:x=>\"data0\", :y=>\"data1\"}, :data=>\"d0d7d5d2-212b-4f4d-a300-cd09acae7c7d\"}, @xrange=[\"NMatrix\", \"Array\"], @yrange=[0, 0.807751]>], :options=>{:x_label=>\"Type\", :y_label=>\"Execution time (sec)\", :yrange=>[0, 1], :width=>700, :xrange=>[\"NMatrix\", \"Array\"]}}>], :data=>{\"d0d7d5d2-212b-4f4d-a300-cd09acae7c7d\"=>#<Nyaplot::DataFrame:0x007fb6ff3b1768 @name=\"d0d7d5d2-212b-4f4d-a300-cd09acae7c7d\", @rows=[{:data0=>\"NMatrix\", :data1=>0.807751}, {:data0=>\"Array\", :data1=>0.010649}]>}, :extension=>[]}>"
      ]
     },
     "metadata": {},
     "output_type": "display_data"
    }
   ],
   "source": [
    "plot = Nyaplot::Plot.new\n",
    "plot.add(:bar, [\"NMatrix\", \"Array\"], [0.807751, 0.010649])\n",
    "plot.x_label(\"Type\")\n",
    "plot.y_label(\"Execution time (sec)\")\n",
    "plot.yrange([0, 1])\n",
    "plot.show"
   ]
  },
  {
   "cell_type": "code",
   "execution_count": 6,
   "metadata": {
    "collapsed": false
   },
   "outputs": [
    {
     "data": {
      "text/html": [
       "<div id='vis-23d56409-495a-4662-ac69-1302109d5afa'></div>\n",
       "<script>\n",
       "(function(){\n",
       "    var render = function(){\n",
       "        var model = {\"panes\":[{\"diagrams\":[{\"type\":\"line\",\"options\":{\"x\":\"data0\",\"y\":\"data1\"},\"data\":\"2b79b7e6-05e4-405c-84ff-aaa1bd54bdeb\"}],\"options\":{\"y_label\":\"ln(x)\",\"zoom\":true,\"width\":700,\"xrange\":[0.1,4.0],\"yrange\":[-2.3025850929940455,1.3862943611198906]}}],\"data\":{\"2b79b7e6-05e4-405c-84ff-aaa1bd54bdeb\":[{\"data0\":0.1,\"data1\":-2.3025850929940455},{\"data0\":0.2,\"data1\":-1.6094379124341003},{\"data0\":0.30000000000000004,\"data1\":-1.203972804325936},{\"data0\":0.4,\"data1\":-0.916290731874155},{\"data0\":0.5,\"data1\":-0.6931471805599453},{\"data0\":0.6,\"data1\":-0.5108256237659907},{\"data0\":0.7000000000000001,\"data1\":-0.3566749439387323},{\"data0\":0.8,\"data1\":-0.2231435513142097},{\"data0\":0.9,\"data1\":-0.10536051565782628},{\"data0\":1.0,\"data1\":0.0},{\"data0\":1.1,\"data1\":0.09531017980432493},{\"data0\":1.2000000000000002,\"data1\":0.1823215567939548},{\"data0\":1.3000000000000003,\"data1\":0.2623642644674913},{\"data0\":1.4000000000000001,\"data1\":0.336472236621213},{\"data0\":1.5000000000000002,\"data1\":0.40546510810816455},{\"data0\":1.6,\"data1\":0.47000362924573563},{\"data0\":1.7000000000000002,\"data1\":0.5306282510621705},{\"data0\":1.8000000000000003,\"data1\":0.5877866649021192},{\"data0\":1.9000000000000001,\"data1\":0.6418538861723948},{\"data0\":2.0,\"data1\":0.6931471805599453},{\"data0\":2.1,\"data1\":0.7419373447293773},{\"data0\":2.2,\"data1\":0.7884573603642703},{\"data0\":2.3000000000000003,\"data1\":0.8329091229351041},{\"data0\":2.4000000000000004,\"data1\":0.8754687373539001},{\"data0\":2.5000000000000004,\"data1\":0.9162907318741552},{\"data0\":2.6,\"data1\":0.9555114450274363},{\"data0\":2.7,\"data1\":0.9932517730102834},{\"data0\":2.8000000000000003,\"data1\":1.0296194171811583},{\"data0\":2.9000000000000004,\"data1\":1.0647107369924285},{\"data0\":3.0000000000000004,\"data1\":1.0986122886681098},{\"data0\":3.1,\"data1\":1.1314021114911006},{\"data0\":3.2,\"data1\":1.1631508098056809},{\"data0\":3.3000000000000003,\"data1\":1.1939224684724346},{\"data0\":3.4000000000000004,\"data1\":1.2237754316221159},{\"data0\":3.5000000000000004,\"data1\":1.252762968495368},{\"data0\":3.6,\"data1\":1.2809338454620642},{\"data0\":3.7,\"data1\":1.308332819650179},{\"data0\":3.8000000000000003,\"data1\":1.3350010667323402},{\"data0\":3.9000000000000004,\"data1\":1.3609765531356008},{\"data0\":4.0,\"data1\":1.3862943611198906}]},\"extension\":[]}\n",
       "        var id_name = '#vis-23d56409-495a-4662-ac69-1302109d5afa';\n",
       "        Nyaplot.core.parse(model, id_name);\n",
       "\n",
       "        require(['downloadable'], function(downloadable){\n",
       "          var svg = d3.select(id_name).select(\"svg\");\n",
       "\t  if(!svg.empty())\n",
       "\t    svg.call(downloadable().filename('fig'));\n",
       "\t});\n",
       "    };\n",
       "    if(window['Nyaplot']==undefined){\n",
       "        window.addEventListener('load_nyaplot', render, false);\n",
       "\treturn;\n",
       "    } else {\n",
       "       render();\n",
       "    }\n",
       "})();\n",
       "</script>\n"
      ],
      "text/plain": [
       "#<Nyaplot::Frame:0x007fb6ff292af8 @properties={:panes=>[#<Nyaplot::Plot:0x007fb6ff2b04b8 @properties={:diagrams=>[#<Nyaplot::Diagram:0x007fb6ff293548 @properties={:type=>:line, :options=>{:x=>\"data0\", :y=>\"data1\"}, :data=>\"2b79b7e6-05e4-405c-84ff-aaa1bd54bdeb\"}, @xrange=[0.1, 4.0], @yrange=[-2.3025850929940455, 1.3862943611198906]>], :options=>{:y_label=>\"ln(x)\", :zoom=>true, :width=>700, :xrange=>[0.1, 4.0], :yrange=>[-2.3025850929940455, 1.3862943611198906]}}>], :data=>{\"2b79b7e6-05e4-405c-84ff-aaa1bd54bdeb\"=>#<Nyaplot::DataFrame:0x007fb6ff2b1ea8 @name=\"2b79b7e6-05e4-405c-84ff-aaa1bd54bdeb\", @rows=[{:data0=>0.1, :data1=>-2.3025850929940455}, {:data0=>0.2, :data1=>-1.6094379124341003}, {:data0=>0.30000000000000004, :data1=>-1.203972804325936}, {:data0=>0.4, :data1=>-0.916290731874155}, {:data0=>0.5, :data1=>-0.6931471805599453}, {:data0=>0.6, :data1=>-0.5108256237659907}, {:data0=>0.7000000000000001, :data1=>-0.3566749439387323}, {:data0=>0.8, :data1=>-0.2231435513142097}, {:data0=>0.9, :data1=>-0.10536051565782628}, {:data0=>1.0, :data1=>0.0}, {:data0=>1.1, :data1=>0.09531017980432493}, {:data0=>1.2000000000000002, :data1=>0.1823215567939548}, {:data0=>1.3000000000000003, :data1=>0.2623642644674913}, {:data0=>1.4000000000000001, :data1=>0.336472236621213}, {:data0=>1.5000000000000002, :data1=>0.40546510810816455}, {:data0=>1.6, :data1=>0.47000362924573563}, {:data0=>1.7000000000000002, :data1=>0.5306282510621705}, {:data0=>1.8000000000000003, :data1=>0.5877866649021192}, {:data0=>1.9000000000000001, :data1=>0.6418538861723948}, {:data0=>2.0, :data1=>0.6931471805599453}, {:data0=>2.1, :data1=>0.7419373447293773}, {:data0=>2.2, :data1=>0.7884573603642703}, {:data0=>2.3000000000000003, :data1=>0.8329091229351041}, {:data0=>2.4000000000000004, :data1=>0.8754687373539001}, {:data0=>2.5000000000000004, :data1=>0.9162907318741552}, {:data0=>2.6, :data1=>0.9555114450274363}, {:data0=>2.7, :data1=>0.9932517730102834}, {:data0=>2.8000000000000003, :data1=>1.0296194171811583}, {:data0=>2.9000000000000004, :data1=>1.0647107369924285}, {:data0=>3.0000000000000004, :data1=>1.0986122886681098}, {:data0=>3.1, :data1=>1.1314021114911006}, {:data0=>3.2, :data1=>1.1631508098056809}, {:data0=>3.3000000000000003, :data1=>1.1939224684724346}, {:data0=>3.4000000000000004, :data1=>1.2237754316221159}, {:data0=>3.5000000000000004, :data1=>1.252762968495368}, {:data0=>3.6, :data1=>1.2809338454620642}, {:data0=>3.7, :data1=>1.308332819650179}, {:data0=>3.8000000000000003, :data1=>1.3350010667323402}, {:data0=>3.9000000000000004, :data1=>1.3609765531356008}, {:data0=>4.0, :data1=>1.3862943611198906}]>}, :extension=>[]}>"
      ]
     },
     "metadata": {},
     "output_type": "display_data"
    }
   ],
   "source": [
    "x = 0.1.step(4, 0.1).to_a\n",
    "y = x.map { |i| Math.log(i) }\n",
    "\n",
    "plot = Nyaplot::Plot.new\n",
    "plot.add(:line, x, y)\n",
    "plot.y_label(\"ln(x)\")\n",
    "plot.show"
   ]
  }
 ],
 "metadata": {
  "kernelspec": {
   "display_name": "Ruby 2.4.0",
   "language": "ruby",
   "name": "ruby"
  },
  "language_info": {
   "file_extension": ".rb",
   "mimetype": "application/x-ruby",
   "name": "ruby",
   "version": "2.4.0"
  }
 },
 "nbformat": 4,
 "nbformat_minor": 0
}
